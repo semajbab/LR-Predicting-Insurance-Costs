{
 "cells": [
  {
   "cell_type": "markdown",
   "metadata": {},
   "source": [
    "# Predicting Insurance Costs With Linear Regression\n",
    "\n",
    "In this project we are going to train a linear regression model on the Medical Cost Data Set from Kaggle with the intent of predicting total medical cost. \n",
    "\n",
    "Below is a breakdown of the columns from the dataset:\n",
    "\n",
    "`age`: age of primary beneficiary\n",
    "\n",
    "`sex`: insurance contractor gender, female, male\n",
    "\n",
    "`bmi`: Body mass index, providing an understanding of body, weights that are relatively high or low relative to height,\n",
    "objective index of body weight (kg / m ^ 2) using the ratio of height to weight, ideally 18.5 to 24.9\n",
    "\n",
    "`children`: Number of children covered by health insurance / Number of dependents\n",
    "\n",
    "`smoker`: Smoking\n",
    "\n",
    "`region`: the beneficiary's residential area in the US, northeast, southeast, southwest, northwest.\n",
    "\n",
    "`charges`: Individual medical costs billed by health insurance"
   ]
  },
  {
   "cell_type": "markdown",
   "metadata": {},
   "source": [
    "## Overview"
   ]
  },
  {
   "cell_type": "code",
   "execution_count": 49,
   "metadata": {},
   "outputs": [
    {
     "data": {
      "text/html": [
       "<div>\n",
       "<style scoped>\n",
       "    .dataframe tbody tr th:only-of-type {\n",
       "        vertical-align: middle;\n",
       "    }\n",
       "\n",
       "    .dataframe tbody tr th {\n",
       "        vertical-align: top;\n",
       "    }\n",
       "\n",
       "    .dataframe thead th {\n",
       "        text-align: right;\n",
       "    }\n",
       "</style>\n",
       "<table border=\"1\" class=\"dataframe\">\n",
       "  <thead>\n",
       "    <tr style=\"text-align: right;\">\n",
       "      <th></th>\n",
       "      <th>age</th>\n",
       "      <th>sex</th>\n",
       "      <th>bmi</th>\n",
       "      <th>children</th>\n",
       "      <th>smoker</th>\n",
       "      <th>region</th>\n",
       "      <th>charges</th>\n",
       "    </tr>\n",
       "  </thead>\n",
       "  <tbody>\n",
       "    <tr>\n",
       "      <th>0</th>\n",
       "      <td>19</td>\n",
       "      <td>female</td>\n",
       "      <td>27.900</td>\n",
       "      <td>0</td>\n",
       "      <td>yes</td>\n",
       "      <td>southwest</td>\n",
       "      <td>16884.92400</td>\n",
       "    </tr>\n",
       "    <tr>\n",
       "      <th>1</th>\n",
       "      <td>18</td>\n",
       "      <td>male</td>\n",
       "      <td>33.770</td>\n",
       "      <td>1</td>\n",
       "      <td>no</td>\n",
       "      <td>southeast</td>\n",
       "      <td>1725.55230</td>\n",
       "    </tr>\n",
       "    <tr>\n",
       "      <th>2</th>\n",
       "      <td>28</td>\n",
       "      <td>male</td>\n",
       "      <td>33.000</td>\n",
       "      <td>3</td>\n",
       "      <td>no</td>\n",
       "      <td>southeast</td>\n",
       "      <td>4449.46200</td>\n",
       "    </tr>\n",
       "    <tr>\n",
       "      <th>3</th>\n",
       "      <td>33</td>\n",
       "      <td>male</td>\n",
       "      <td>22.705</td>\n",
       "      <td>0</td>\n",
       "      <td>no</td>\n",
       "      <td>northwest</td>\n",
       "      <td>21984.47061</td>\n",
       "    </tr>\n",
       "    <tr>\n",
       "      <th>4</th>\n",
       "      <td>32</td>\n",
       "      <td>male</td>\n",
       "      <td>28.880</td>\n",
       "      <td>0</td>\n",
       "      <td>no</td>\n",
       "      <td>northwest</td>\n",
       "      <td>3866.85520</td>\n",
       "    </tr>\n",
       "  </tbody>\n",
       "</table>\n",
       "</div>"
      ],
      "text/plain": [
       "   age     sex     bmi  children smoker     region      charges\n",
       "0   19  female  27.900         0    yes  southwest  16884.92400\n",
       "1   18    male  33.770         1     no  southeast   1725.55230\n",
       "2   28    male  33.000         3     no  southeast   4449.46200\n",
       "3   33    male  22.705         0     no  northwest  21984.47061\n",
       "4   32    male  28.880         0     no  northwest   3866.85520"
      ]
     },
     "execution_count": 49,
     "metadata": {},
     "output_type": "execute_result"
    }
   ],
   "source": [
    "import pandas as pd \n",
    "import numpy as np \n",
    "import matplotlib.pyplot as plt\n",
    "from sklearn.linear_model import LinearRegression\n",
    "from sklearn.metrics import mean_squared_error, r2_score\n",
    "from sklearn.model_selection import train_test_split\n",
    "from sklearn.preprocessing import StandardScaler\n",
    "\n",
    "insurance = pd.read_csv('insurance.csv')\n",
    "insurance.head()"
   ]
  },
  {
   "cell_type": "code",
   "execution_count": 50,
   "metadata": {},
   "outputs": [
    {
     "data": {
      "text/plain": [
       "array([[<AxesSubplot:title={'center':'charges'}>]], dtype=object)"
      ]
     },
     "execution_count": 50,
     "metadata": {},
     "output_type": "execute_result"
    },
    {
     "data": {
      "image/png": "[encoded data removed]",
      "text/plain": [
       "<Figure size 640x480 with 1 Axes>"
      ]
     },
     "metadata": {},
     "output_type": "display_data"
    }
   ],
   "source": [
    "#look at outcome var \n",
    "insurance.hist('charges')"
   ]
  },
  {
   "cell_type": "markdown",
   "metadata": {},
   "source": [
    "Immediately, we observe that our outcome variable is skewed, this makes it unlikey for our errors to be centered at zero (one of our linear regression assumptions). We can transform our outcome variable with a log-transformation, that should reduce the skewness and allow for our model to be more accurate. "
   ]
  },
  {
   "cell_type": "code",
   "execution_count": 51,
   "metadata": {
    "tags": []
   },
   "outputs": [
    {
     "data": {
      "text/plain": [
       "<AxesSubplot:>"
      ]
     },
     "execution_count": 51,
     "metadata": {},
     "output_type": "execute_result"
    },
    {
     "data": {
      "image/png": "[encoded data removed]",
      "text/plain": [
       "<Figure size 640x480 with 1 Axes>"
      ]
     },
     "metadata": {},
     "output_type": "display_data"
    }
   ],
   "source": [
    "insurance['log_charges'] = np.log2(insurance['charges'])\n",
    "\n",
    "insurance['log_charges'].hist()"
   ]
  },
  {
   "cell_type": "markdown",
   "metadata": {},
   "source": [
    "This appears to have done the trick."
   ]
  },
  {
   "cell_type": "code",
   "execution_count": 52,
   "metadata": {},
   "outputs": [],
   "source": [
    "#removing charges\n",
    "insurance.drop('charges', axis=1, inplace=True)\n",
    "\n",
    "#converting columns to dummies and removing duplicates\n",
    "insurance = pd.get_dummies(data=insurance, columns=['sex', 'smoker', 'region', 'children'])"
   ]
  },
  {
   "cell_type": "code",
   "execution_count": 53,
   "metadata": {},
   "outputs": [],
   "source": [
    "insurance.drop(['sex_male','smoker_no'], axis=1, inplace=True) "
   ]
  },
  {
   "cell_type": "code",
   "execution_count": 54,
   "metadata": {},
   "outputs": [
    {
     "data": {
      "text/html": [
       "<div>\n",
       "<style scoped>\n",
       "    .dataframe tbody tr th:only-of-type {\n",
       "        vertical-align: middle;\n",
       "    }\n",
       "\n",
       "    .dataframe tbody tr th {\n",
       "        vertical-align: top;\n",
       "    }\n",
       "\n",
       "    .dataframe thead th {\n",
       "        text-align: right;\n",
       "    }\n",
       "</style>\n",
       "<table border=\"1\" class=\"dataframe\">\n",
       "  <thead>\n",
       "    <tr style=\"text-align: right;\">\n",
       "      <th></th>\n",
       "      <th>age</th>\n",
       "      <th>bmi</th>\n",
       "      <th>log_charges</th>\n",
       "      <th>sex_female</th>\n",
       "      <th>smoker_yes</th>\n",
       "      <th>region_northeast</th>\n",
       "      <th>region_northwest</th>\n",
       "      <th>region_southeast</th>\n",
       "      <th>region_southwest</th>\n",
       "      <th>children_0</th>\n",
       "      <th>children_1</th>\n",
       "      <th>children_2</th>\n",
       "      <th>children_3</th>\n",
       "      <th>children_4</th>\n",
       "      <th>children_5</th>\n",
       "    </tr>\n",
       "  </thead>\n",
       "  <tbody>\n",
       "    <tr>\n",
       "      <th>0</th>\n",
       "      <td>19</td>\n",
       "      <td>27.900</td>\n",
       "      <td>14.043448</td>\n",
       "      <td>1</td>\n",
       "      <td>1</td>\n",
       "      <td>0</td>\n",
       "      <td>0</td>\n",
       "      <td>0</td>\n",
       "      <td>1</td>\n",
       "      <td>1</td>\n",
       "      <td>0</td>\n",
       "      <td>0</td>\n",
       "      <td>0</td>\n",
       "      <td>0</td>\n",
       "      <td>0</td>\n",
       "    </tr>\n",
       "    <tr>\n",
       "      <th>1</th>\n",
       "      <td>18</td>\n",
       "      <td>33.770</td>\n",
       "      <td>10.752842</td>\n",
       "      <td>0</td>\n",
       "      <td>0</td>\n",
       "      <td>0</td>\n",
       "      <td>0</td>\n",
       "      <td>1</td>\n",
       "      <td>0</td>\n",
       "      <td>0</td>\n",
       "      <td>1</td>\n",
       "      <td>0</td>\n",
       "      <td>0</td>\n",
       "      <td>0</td>\n",
       "      <td>0</td>\n",
       "    </tr>\n",
       "    <tr>\n",
       "      <th>2</th>\n",
       "      <td>28</td>\n",
       "      <td>33.000</td>\n",
       "      <td>12.119415</td>\n",
       "      <td>0</td>\n",
       "      <td>0</td>\n",
       "      <td>0</td>\n",
       "      <td>0</td>\n",
       "      <td>1</td>\n",
       "      <td>0</td>\n",
       "      <td>0</td>\n",
       "      <td>0</td>\n",
       "      <td>0</td>\n",
       "      <td>1</td>\n",
       "      <td>0</td>\n",
       "      <td>0</td>\n",
       "    </tr>\n",
       "    <tr>\n",
       "      <th>3</th>\n",
       "      <td>33</td>\n",
       "      <td>22.705</td>\n",
       "      <td>14.424197</td>\n",
       "      <td>0</td>\n",
       "      <td>0</td>\n",
       "      <td>0</td>\n",
       "      <td>1</td>\n",
       "      <td>0</td>\n",
       "      <td>0</td>\n",
       "      <td>1</td>\n",
       "      <td>0</td>\n",
       "      <td>0</td>\n",
       "      <td>0</td>\n",
       "      <td>0</td>\n",
       "      <td>0</td>\n",
       "    </tr>\n",
       "    <tr>\n",
       "      <th>4</th>\n",
       "      <td>32</td>\n",
       "      <td>28.880</td>\n",
       "      <td>11.916945</td>\n",
       "      <td>0</td>\n",
       "      <td>0</td>\n",
       "      <td>0</td>\n",
       "      <td>1</td>\n",
       "      <td>0</td>\n",
       "      <td>0</td>\n",
       "      <td>1</td>\n",
       "      <td>0</td>\n",
       "      <td>0</td>\n",
       "      <td>0</td>\n",
       "      <td>0</td>\n",
       "      <td>0</td>\n",
       "    </tr>\n",
       "  </tbody>\n",
       "</table>\n",
       "</div>"
      ],
      "text/plain": [
       "   age     bmi  log_charges  sex_female  smoker_yes  region_northeast  \\\n",
       "0   19  27.900    14.043448           1           1                 0   \n",
       "1   18  33.770    10.752842           0           0                 0   \n",
       "2   28  33.000    12.119415           0           0                 0   \n",
       "3   33  22.705    14.424197           0           0                 0   \n",
       "4   32  28.880    11.916945           0           0                 0   \n",
       "\n",
       "   region_northwest  region_southeast  region_southwest  children_0  \\\n",
       "0                 0                 0                 1           1   \n",
       "1                 0                 1                 0           0   \n",
       "2                 0                 1                 0           0   \n",
       "3                 1                 0                 0           1   \n",
       "4                 1                 0                 0           1   \n",
       "\n",
       "   children_1  children_2  children_3  children_4  children_5  \n",
       "0           0           0           0           0           0  \n",
       "1           1           0           0           0           0  \n",
       "2           0           0           1           0           0  \n",
       "3           0           0           0           0           0  \n",
       "4           0           0           0           0           0  "
      ]
     },
     "execution_count": 54,
     "metadata": {},
     "output_type": "execute_result"
    }
   ],
   "source": [
    "insurance.head()"
   ]
  },
  {
   "cell_type": "code",
   "execution_count": 56,
   "metadata": {},
   "outputs": [
    {
     "data": {
      "text/plain": [
       "age               age            1.000000\n",
       "smoker_yes        log_charges    0.665506\n",
       "log_charges       age            0.527834\n",
       "region_southeast  bmi            0.270025\n",
       "bmi               log_charges    0.132669\n",
       "age               bmi            0.109272\n",
       "log_charges       children_3     0.107200\n",
       "                  children_2     0.101524\n",
       "region_southeast  smoker_yes     0.068498\n",
       "children_3        age            0.061263\n",
       "dtype: float64"
      ]
     },
     "execution_count": 56,
     "metadata": {},
     "output_type": "execute_result"
    }
   ],
   "source": [
    "#check corr\n",
    "insurance.corr().unstack().sort_values(ascending=False).drop_duplicates().head(10)"
   ]
  },
  {
   "cell_type": "markdown",
   "metadata": {},
   "source": [
    "The potential predictors that exhibit the highest correlations with outcome variable `log_charges` are: \n",
    "\n",
    "* `smoker_yes`\n",
    "\n",
    "* `age` \n",
    "\n",
    "* `children_1`, `children_2`, `children_3`, `children_4`, `children_5` \n",
    "\n",
    "* `bmi`\n",
    "\n",
    "The following correlations between predictors are also worth keeping in mind:\n",
    "\n",
    "* `bmi` and `reigon_southwest` \n",
    "\n",
    "* `bmi` and `age` "
   ]
  },
  {
   "cell_type": "markdown",
   "metadata": {},
   "source": [
    "## Feature Selection\n",
    "\n",
    "We now have to select which features we'd like to include in our linear model. We do this based on a combination of domain knowledge, and observed correlative relationships between the predictors and outcome variable. As such, the four predictors we have chosen are listed: \n",
    "\n",
    "`smoker_yes`, `age`, `children`, and `bmi`\n",
    "\n",
    "Keep in mind this is when we'd normally do our evaluation of the linearity assumption for our model. In this case, for the sake of project flow, we hold off on this until a later section dedicated entirely to assumptions. "
   ]
  },
  {
   "cell_type": "markdown",
   "metadata": {},
   "source": [
    "## Preparing The Model\n",
    "\n",
    "Here we begin the process of preparing our model, starting with breaking up our data into training and testing sets. "
   ]
  },
  {
   "cell_type": "code",
   "execution_count": 57,
   "metadata": {},
   "outputs": [],
   "source": [
    "feats = ['smoker_yes', 'age', 'children_1', 'children_2', 'children_3', 'children_4', 'children_5', 'bmi'] \n",
    "\n",
    "#sep data for T_T_Split\n",
    "X = insurance[feats]\n",
    "y = insurance['log_charges']\n",
    "\n",
    "X_train, X_test, y_train, y_test = train_test_split(X, y, test_size=.2, random_state=417)\n",
    "\n",
    "#standardizing to ensure equal contribution to analysis from predictors\n",
    "scaler = StandardScaler() #creating instance of StandardScaler class\n",
    "\n",
    "#fitting/transforming data\n",
    "X_train_scaled = scaler.fit_transform(X_train)\n",
    "X_test_scaled = scaler.transform(X_test)"
   ]
  },
  {
   "cell_type": "markdown",
   "metadata": {},
   "source": [
    "## Constructing The Model\n",
    "\n",
    "Now that our features are selected, and our train/test data is prepared, we can finally begin training our model!"
   ]
  },
  {
   "cell_type": "code",
   "execution_count": 58,
   "metadata": {},
   "outputs": [
    {
     "name": "stdout",
     "output_type": "stream",
     "text": [
      "Betas:[0.91062863 0.70132833 0.09956005 0.18063666 0.12485332 0.11488767\n",
      " 0.0520758  0.09446636]\n"
     ]
    }
   ],
   "source": [
    "#create instance of LinearRegression class \n",
    "lr = LinearRegression()\n",
    "\n",
    "#fit to training data\n",
    "lr.fit(X_train_scaled, y_train)\n",
    "\n",
    "#predict\n",
    "y_pred_train = lr.predict(X_train_scaled)\n",
    "\n",
    "#look at coeffs\n",
    "coefs = lr.coef_\n",
    "print(f'Betas:{coefs}')"
   ]
  },
  {
   "cell_type": "code",
   "execution_count": 59,
   "metadata": {},
   "outputs": [
    {
     "name": "stdout",
     "output_type": "stream",
     "text": [
      "R-Squared:0.7597\n",
      "RMSE:0.6548\n"
     ]
    }
   ],
   "source": [
    "#calc metrics\n",
    "r2 = r2_score(y_train, y_pred_train)\n",
    "print(f'R-Squared:{r2.round(4)}')\n",
    "\n",
    "rmse = np.sqrt(mean_squared_error(y_train, y_pred_train))\n",
    "print(f'RMSE:{rmse.round(4)}')"
   ]
  },
  {
   "cell_type": "markdown",
   "metadata": {},
   "source": [
    "At first glance, these metrics look promising. But, it is important to remember that these were calculated using only our training data throughout the whole process. The latter means that these results are likely overly optimistic, and thus require further evaluation.\n",
    "\n",
    "Below is a discussion on the printed metrics:\n",
    "\n",
    "*R-Squared*: This metric captures the percent of the variation explained by our linear model, i.e. by taking our predictors into account. In our case, this number is rather high, which is a good sign.\n",
    "\n",
    "*Root Mean Squared Error (RMSE)*: This metric is simply the mean squared error, but in the same terms as the outcome variable. The mean squared error is the average difference between the actual and predicted values squared. This gives us an idea of how close our regression line is to a set of data points, specifically, those associated with our outcome variable. This is not exceptionally high, which is a good sign."
   ]
  },
  {
   "cell_type": "markdown",
   "metadata": {},
   "source": [
    "## Evaluating Our Assumptions\n",
    "\n",
    "The four assumptions for linear regression are as follows: \n",
    "\n",
    "1. Linearity: the average outcome must be linearly related to each predictor holding the others fixed. \n",
    "\n",
    "2. Normal Distribution of the Errors: The residuals must follow a normal distribution with their mean centered at zero. \n",
    "\n",
    "3. No Heteroscedasticity : This describes a situation where the variance of our residuals are not constant -- we do not want this. One can evaluate the latter with a residual plot where the residuals are plotted on the y-axis against our predicted values on the x-axis.  \n",
    "\n",
    "4. No Multicollinearity: We cannot allow for any 2 predictors in our model to maintain strong correlations with each-other. The latter situation makes it difficult to reliably calculate our coefficients. We can evaluate this by looking at a correlation matrix."
   ]
  },
  {
   "cell_type": "code",
   "execution_count": 72,
   "metadata": {},
   "outputs": [
    {
     "data": {
      "image/png": "[encoded data removed]",
      "text/plain": [
       "<Figure size 800x500 with 2 Axes>"
      ]
     },
     "metadata": {},
     "output_type": "display_data"
    }
   ],
   "source": [
    "#linearity\n",
    "\n",
    "#note: normally we'd evaluate this earlier, but we wanted to keep all the assumptions in one place for the sake of the project's organization\n",
    "\n",
    "fig = plt.figure(figsize=(8,5))\n",
    "\n",
    "fig.add_subplot(121)\n",
    "plt.scatter(data=insurance, x='age', y='log_charges')\n",
    "plt.xlabel('age')\n",
    "plt.ylabel('log_charges')\n",
    "\n",
    "fig.add_subplot(122)\n",
    "plt.scatter(data=insurance, x='bmi', y='log_charges')\n",
    "plt.xlabel('bmi')\n",
    "plt.ylabel('log_charges')\n",
    "\n",
    "plt.show()"
   ]
  },
  {
   "cell_type": "markdown",
   "metadata": {},
   "source": [
    "From these two charts we can make the following observations: \n",
    "\n",
    "The relationship between `age` and `log_charges` appears to be linear. \n",
    "\n",
    "The relationship between `bmi` and `log_charges` appears to be non-existant. We will still include this in our model, but must keep the aformentioned in mind moving forward. \n",
    "\n",
    "Also, worth, noting is the lack of scatterplots for our categorical variables. Firstly, to clarify, the linearity assumption states that the condition is linearity for each term in the model. Thus, for a binary predictor the linearity assumption is automatically true -- there exist only two means, one for each level of the predictor (i.e. each term in the model), and these two points will always create a straight line. The same logic can be extended to categorical variables, like `children`. One can plot the mean outcome vs each individual level, or \"term in the model\", and we are left with the same situation as with dummy variables."
   ]
  },
  {
   "cell_type": "code",
   "execution_count": 73,
   "metadata": {},
   "outputs": [],
   "source": [
    "#next assumptions...\n",
    "\n",
    "#first calculate residuals\n",
    "residuals = y_train - y_pred_train"
   ]
  },
  {
   "cell_type": "code",
   "execution_count": 74,
   "metadata": {},
   "outputs": [
    {
     "data": {
      "image/png": "[encoded data removed]",
      "text/plain": [
       "<Figure size 640x480 with 1 Axes>"
      ]
     },
     "metadata": {},
     "output_type": "display_data"
    },
    {
     "name": "stdout",
     "output_type": "stream",
     "text": [
      "-6.341759931316782e-16\n"
     ]
    }
   ],
   "source": [
    "#Normal distribution of errors -- histogram of residuals\n",
    "\n",
    "plt.hist(residuals)\n",
    "plt.show()\n",
    "\n",
    "print(residuals.mean())"
   ]
  },
  {
   "cell_type": "markdown",
   "metadata": {},
   "source": [
    "It does not appear that our residuals are perfectly normally distributed, but the mean appears to be close to zero, so we will continue with our analysis. "
   ]
  },
  {
   "cell_type": "code",
   "execution_count": 75,
   "metadata": {},
   "outputs": [
    {
     "data": {
      "image/png": "[encoded data removed]",
      "text/plain": [
       "<Figure size 640x480 with 1 Axes>"
      ]
     },
     "metadata": {},
     "output_type": "display_data"
    }
   ],
   "source": [
    "#Homosked -- creating residual plot to evaluate if variance of residuals constant\n",
    "\n",
    "#plot residuals against predicted\n",
    "plt.scatter(x=y_pred_train, y=residuals)\n",
    "plt.axhline(0, linestyle='--', color='r')\n",
    "plt.show()"
   ]
  },
  {
   "cell_type": "markdown",
   "metadata": {},
   "source": [
    "The variation in our residuals does not appear to be constant, notice the 'fanning-out' of the residuals into a triangular shape. The latter is evidence of Heteroscedasticity, and technically violates our third assumption. The OLS estimators within our model are likely compromised, and thus so is our predictive accuracy. Nonetheless, we will push on with our analysis. "
   ]
  },
  {
   "cell_type": "code",
   "execution_count": 76,
   "metadata": {},
   "outputs": [
    {
     "data": {
      "text/html": [
       "<div>\n",
       "<style scoped>\n",
       "    .dataframe tbody tr th:only-of-type {\n",
       "        vertical-align: middle;\n",
       "    }\n",
       "\n",
       "    .dataframe tbody tr th {\n",
       "        vertical-align: top;\n",
       "    }\n",
       "\n",
       "    .dataframe thead th {\n",
       "        text-align: right;\n",
       "    }\n",
       "</style>\n",
       "<table border=\"1\" class=\"dataframe\">\n",
       "  <thead>\n",
       "    <tr style=\"text-align: right;\">\n",
       "      <th></th>\n",
       "      <th>smoker_yes</th>\n",
       "      <th>age</th>\n",
       "      <th>children_1</th>\n",
       "      <th>children_2</th>\n",
       "      <th>children_3</th>\n",
       "      <th>children_4</th>\n",
       "      <th>children_5</th>\n",
       "      <th>bmi</th>\n",
       "    </tr>\n",
       "  </thead>\n",
       "  <tbody>\n",
       "    <tr>\n",
       "      <th>smoker_yes</th>\n",
       "      <td>1.000000</td>\n",
       "      <td>-0.025019</td>\n",
       "      <td>-0.023129</td>\n",
       "      <td>0.028249</td>\n",
       "      <td>0.039415</td>\n",
       "      <td>-0.028991</td>\n",
       "      <td>-0.043183</td>\n",
       "      <td>0.003750</td>\n",
       "    </tr>\n",
       "    <tr>\n",
       "      <th>age</th>\n",
       "      <td>-0.025019</td>\n",
       "      <td>1.000000</td>\n",
       "      <td>0.009928</td>\n",
       "      <td>0.007950</td>\n",
       "      <td>0.061263</td>\n",
       "      <td>-0.002034</td>\n",
       "      <td>-0.029898</td>\n",
       "      <td>0.109272</td>\n",
       "    </tr>\n",
       "    <tr>\n",
       "      <th>children_1</th>\n",
       "      <td>-0.023129</td>\n",
       "      <td>0.009928</td>\n",
       "      <td>1.000000</td>\n",
       "      <td>-0.264276</td>\n",
       "      <td>-0.206100</td>\n",
       "      <td>-0.077999</td>\n",
       "      <td>-0.066009</td>\n",
       "      <td>-0.003732</td>\n",
       "    </tr>\n",
       "    <tr>\n",
       "      <th>children_2</th>\n",
       "      <td>0.028249</td>\n",
       "      <td>0.007950</td>\n",
       "      <td>-0.264276</td>\n",
       "      <td>1.000000</td>\n",
       "      <td>-0.170463</td>\n",
       "      <td>-0.064512</td>\n",
       "      <td>-0.054595</td>\n",
       "      <td>0.024136</td>\n",
       "    </tr>\n",
       "    <tr>\n",
       "      <th>children_3</th>\n",
       "      <td>0.039415</td>\n",
       "      <td>0.061263</td>\n",
       "      <td>-0.206100</td>\n",
       "      <td>-0.170463</td>\n",
       "      <td>1.000000</td>\n",
       "      <td>-0.050311</td>\n",
       "      <td>-0.042577</td>\n",
       "      <td>0.001252</td>\n",
       "    </tr>\n",
       "    <tr>\n",
       "      <th>children_4</th>\n",
       "      <td>-0.028991</td>\n",
       "      <td>-0.002034</td>\n",
       "      <td>-0.077999</td>\n",
       "      <td>-0.064512</td>\n",
       "      <td>-0.050311</td>\n",
       "      <td>1.000000</td>\n",
       "      <td>-0.016113</td>\n",
       "      <td>0.016475</td>\n",
       "    </tr>\n",
       "    <tr>\n",
       "      <th>children_5</th>\n",
       "      <td>-0.043183</td>\n",
       "      <td>-0.029898</td>\n",
       "      <td>-0.066009</td>\n",
       "      <td>-0.054595</td>\n",
       "      <td>-0.042577</td>\n",
       "      <td>-0.016113</td>\n",
       "      <td>1.000000</td>\n",
       "      <td>-0.020275</td>\n",
       "    </tr>\n",
       "    <tr>\n",
       "      <th>bmi</th>\n",
       "      <td>0.003750</td>\n",
       "      <td>0.109272</td>\n",
       "      <td>-0.003732</td>\n",
       "      <td>0.024136</td>\n",
       "      <td>0.001252</td>\n",
       "      <td>0.016475</td>\n",
       "      <td>-0.020275</td>\n",
       "      <td>1.000000</td>\n",
       "    </tr>\n",
       "  </tbody>\n",
       "</table>\n",
       "</div>"
      ],
      "text/plain": [
       "            smoker_yes       age  children_1  children_2  children_3  \\\n",
       "smoker_yes    1.000000 -0.025019   -0.023129    0.028249    0.039415   \n",
       "age          -0.025019  1.000000    0.009928    0.007950    0.061263   \n",
       "children_1   -0.023129  0.009928    1.000000   -0.264276   -0.206100   \n",
       "children_2    0.028249  0.007950   -0.264276    1.000000   -0.170463   \n",
       "children_3    0.039415  0.061263   -0.206100   -0.170463    1.000000   \n",
       "children_4   -0.028991 -0.002034   -0.077999   -0.064512   -0.050311   \n",
       "children_5   -0.043183 -0.029898   -0.066009   -0.054595   -0.042577   \n",
       "bmi           0.003750  0.109272   -0.003732    0.024136    0.001252   \n",
       "\n",
       "            children_4  children_5       bmi  \n",
       "smoker_yes   -0.028991   -0.043183  0.003750  \n",
       "age          -0.002034   -0.029898  0.109272  \n",
       "children_1   -0.077999   -0.066009 -0.003732  \n",
       "children_2   -0.064512   -0.054595  0.024136  \n",
       "children_3   -0.050311   -0.042577  0.001252  \n",
       "children_4    1.000000   -0.016113  0.016475  \n",
       "children_5   -0.016113    1.000000 -0.020275  \n",
       "bmi           0.016475   -0.020275  1.000000  "
      ]
     },
     "execution_count": 76,
     "metadata": {},
     "output_type": "execute_result"
    }
   ],
   "source": [
    "#multicollinearity\n",
    "\n",
    "insurance[feats].corr()"
   ]
  },
  {
   "cell_type": "markdown",
   "metadata": {
    "tags": []
   },
   "source": [
    "It appears as though some of the dummies representing the number of children covered by health insurance are correlated, but nothing strongly -- we can proceed."
   ]
  },
  {
   "cell_type": "markdown",
   "metadata": {},
   "source": [
    "## Interpretation\n",
    "\n",
    "Now that the assumptions have been discussed, we can conduct a preliminary interpretation of our model."
   ]
  },
  {
   "cell_type": "code",
   "execution_count": 78,
   "metadata": {},
   "outputs": [
    {
     "name": "stdout",
     "output_type": "stream",
     "text": [
      "Intercept:13.1145\n"
     ]
    }
   ],
   "source": [
    "#get intercept\n",
    "intercept = lr.intercept_\n",
    "print(f'Intercept:{intercept.round(4)}')"
   ]
  },
  {
   "cell_type": "markdown",
   "metadata": {},
   "source": [
    "Conventionally, the intercept of a linear regression model is interpreted as the predicted outcome when all the predictors equal zero. Since someone cannot have a zero bmi, or be zero years old, this intercept has no meaningful interpretation. "
   ]
  },
  {
   "cell_type": "code",
   "execution_count": 82,
   "metadata": {},
   "outputs": [
    {
     "name": "stdout",
     "output_type": "stream",
     "text": [
      "Beta_0: 0.9106\n",
      "\n",
      "Beta_1: 0.7013\n",
      "\n",
      "Beta_2: 0.0996\n",
      "\n",
      "Beta_3: 0.1806\n",
      "\n",
      "Beta_4: 0.1249\n",
      "\n",
      "Beta_5: 0.1149\n",
      "\n",
      "Beta_6: 0.0521\n",
      "\n",
      "Beta_7: 0.0945\n",
      "\n"
     ]
    }
   ],
   "source": [
    "for i, value in enumerate(coefs):\n",
    "    \n",
    "    print(f'Beta_{i}: {value.round(4)}\\n')"
   ]
  },
  {
   "cell_type": "markdown",
   "metadata": {},
   "source": [
    "Despite the partially violated assumptions from earlier, for the sake of edification, we will still go over what some of the coefficients mean in the regression.\n",
    "\n",
    "Beta_0: This term is associated with the dummy variable of one's status as a smoker. It's interpretation is the average difference in outcome between those in level 1 and level 0 of the dummy variable, holding all other predictors constant. Specifically, being a smoker is associated with a 90% increase in log charges, holding bmi, age, and number of dependents constant.\n",
    "\n",
    "Beta_1: This term is associated with the continuous variable capturing one's age. It's interpretation is, a 1 unit increase in age is associated with a 70% increase in the log charges, holding other factors constant. "
   ]
  },
  {
   "cell_type": "markdown",
   "metadata": {},
   "source": [
    "## Final Evaluation\n",
    "\n",
    "Now it's time to evaluate our model on our testing data. "
   ]
  },
  {
   "cell_type": "code",
   "execution_count": 86,
   "metadata": {},
   "outputs": [
    {
     "name": "stdout",
     "output_type": "stream",
     "text": [
      "Final RMSE: 0.6028\n"
     ]
    }
   ],
   "source": [
    "#produce predictions with test data\n",
    "y_pred_test = lr.predict(X_test_scaled)\n",
    "\n",
    "#calc RMSE\n",
    "rmse_final = np.sqrt(mean_squared_error(y_test, y_pred_test))\n",
    "\n",
    "print(f'Final RMSE: {rmse_final.round(4)}')"
   ]
  },
  {
   "cell_type": "markdown",
   "metadata": {},
   "source": [
    "This value is lower than before, which is a good thing. The above can be interpreted as the average difference in log charges between the predicted values from our model and the actual values in our dataset. "
   ]
  },
  {
   "cell_type": "markdown",
   "metadata": {},
   "source": [
    "## Conclusion\n",
    "\n",
    "Despite our model not entirely living up to what we might have wished, it appears that we were able to generate a moderately useful predictive model for total medical costs. \n",
    "\n",
    "The relative effects from each of the predictors lines up with what one might have anticipated, that being that increases in age and one's status as a smoker predict higher total medical bills per-individual. \n",
    "\n",
    "As far as an insurance company being able to employ our model, considering its violation of some of the assumptions required for linear regression, it's likely that the predictive abilities of the model have been in some way comprimised. This represents a potential liability for a firm attempting to employ a model in a predictive capacity such that those predictions might assist them in reducing their bottom line.\n",
    "\n",
    "Finally, there exists an opportunity to collect more data and apply more sophisticated techniques to combat some of the issues we encountered with this model. In this way, one might be able to construct something worthy of deployment in an institutional setting. "
   ]
  },
  {
   "cell_type": "code",
   "execution_count": null,
   "metadata": {},
   "outputs": [],
   "source": []
  }
 ],
 "metadata": {
  "kernelspec": {
   "display_name": "Python 3 (ipykernel)",
   "language": "python",
   "name": "python3"
  },
  "language_info": {
   "codemirror_mode": {
    "name": "ipython",
    "version": 3
   },
   "file_extension": ".py",
   "mimetype": "text/x-python",
   "name": "python",
   "nbconvert_exporter": "python",
   "pygments_lexer": "ipython3",
   "version": "3.8.10"
  }
 },
 "nbformat": 4,
 "nbformat_minor": 4
}
